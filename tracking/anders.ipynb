{
 "cells": [
  {
   "cell_type": "markdown",
   "metadata": {
    "collapsed": true,
    "pycharm": {
     "name": "#%% md\n"
    }
   },
   "source": [
    "# Simple implementation af Kalman filteret\n",
    "\\begin{align*}\n",
    "    \\intertext{kinematic and observations model}\n",
    "    \\mathbf{x}[n]&=\\Phi \\mathbf{x}[n-1] + \\mathbf{u}[n], \\\\\n",
    "    \\mathbf{z}[n]&=\\mathbf{x}[n] + \\mathbf{w}[n],\\\\\n",
    "    \\intertext{the prediction and prediction mean square error,}\n",
    "    \\hat{\\mathbf{x}}[n|n-1]&=\\Phi\\hat{\\mathbf{x}}[n-1|n-1], \\\\\n",
    "    M[n|n-1]&=\\Phi M[n-1|n-1]\\Phi^\\top + S_{\\mathbf{u}}, \\\\\n",
    "    \\intertext{the Kalman gain,}\n",
    "    K[n]&=M[n|n-1](S_{\\mathbf{w}}+M[n|n-1])^{-1},\\\\\n",
    "    \\intertext{and the correction and estimate mean square error,}\n",
    "    \\hat{\\mathbf{x}}[n|n]&=\\hat{\\mathbf{x}}[n|n-1]+K[n](\\mathbf{z}[n]-\\hat{\\mathbf{x}}[n|n-1]),\\\\\n",
    "    M[n|n]&=(I-K[n])M[n|n-1].\n",
    "\\end{align*}\n",
    "<br>"
   ]
  },
  {
   "cell_type": "code",
   "execution_count": 1,
   "metadata": {},
   "outputs": [],
   "source": [
    "import numpy as np\n",
    "\n",
    "\n",
    "def init_gate(q1, q2, dt, vmax=0.5):\n",
    "    if np.linalg.norm(q1 - q2) <= vmax * dt:\n",
    "        return True\n",
    "    else:\n",
    "        return False   \n",
    "\n",
    "\n",
    "def flatten(t):\n",
    "    return [item for sublist in t for item in sublist]"
   ]
  },
  {
   "cell_type": "code",
   "execution_count": 6,
   "metadata": {},
   "outputs": [],
   "source": [
    "m01 = np.random.rand(3)\n",
    "m02 = np.random.rand(3)\n",
    "m03 = np.random.rand(3)\n",
    "S0 = [m01, m02, m03]\n",
    "keylist = list(range(1, len(S0)+1))\n",
    "\n",
    "tracks = {0: []}\n",
    "for i in range(len(keylist)):\n",
    "    tracks[keylist[i]] = [S0[i]]\n",
    "\n",
    "\n",
    "m11 = np.random.rand(3)\n",
    "m12 = np.random.rand(3)\n",
    "m13 = np.random.rand(3)\n",
    "S1 = [m11, m12, m13]"
   ]
  },
  {
   "cell_type": "code",
   "execution_count": 7,
   "metadata": {},
   "outputs": [
    {
     "data": {
      "text/plain": [
       "[[0, 1, 2, 3], [0, 2, 3], [0, 1, 2, 3]]"
      ]
     },
     "execution_count": 7,
     "metadata": {},
     "output_type": "execute_result"
    }
   ],
   "source": [
    "hyp_table = []\n",
    "\n",
    "for i in range(len(S1)):\n",
    "    mn_hyp = [0]\n",
    "    for j in range(len(S0)):\n",
    "        if init_gate(S0[i], S1[j], 1, 0.75):\n",
    "            mn_hyp.append(j+1)\n",
    "    \n",
    "    hyp_table.append(mn_hyp)\n",
    "\n",
    "hyp_table"
   ]
  },
  {
   "cell_type": "code",
   "execution_count": null,
   "metadata": {},
   "outputs": [],
   "source": [
    "# create the bottom layer\n",
    "lengths = [len(tab) for tab in hyp_table]\n",
    "hyp_perm = hyp_table[-1].copy()\n",
    "prod = 1/len(hyp_table[-1])\n",
    "for l in lengths:\n",
    "    prod *= l\n",
    "prod = int(prod)\n",
    "hyp_perm *= prod\n",
    "\n",
    "l = len(lengths)\n",
    "for i in range(len(hyp_table)):\n",
    "    new_layer = []\n",
    "    for j in range(len(hyp_table[i])):\n",
    "        a = [hyp_table[i][j]]*lengths[l-i-1]\n",
    "        new_layer.append(a)\n",
    "\n",
    "print(new_layer, \"\\n\", hyp_perm)"
   ]
  }
 ],
 "metadata": {
  "kernelspec": {
   "display_name": "Python 3 (ipykernel)",
   "language": "python",
   "name": "python3"
  },
  "language_info": {
   "codemirror_mode": {
    "name": "ipython",
    "version": 3
   },
   "file_extension": ".py",
   "mimetype": "text/x-python",
   "name": "python",
   "nbconvert_exporter": "python",
   "pygments_lexer": "ipython3",
   "version": "3.9.10+"
  }
 },
 "nbformat": 4,
 "nbformat_minor": 1
}
