{
 "cells": [
  {
   "cell_type": "markdown",
   "metadata": {
    "collapsed": true,
    "pycharm": {
     "name": "#%% md\n"
    }
   },
   "source": [
    "# Simple implementation af Kalman filteret\n",
    "Koden er nu skrevet sådan at $F$ er afhængig af tid, da vores koordinater indgår i dens udregning. Vi skal have nogle anre ligninger i spil for at kunne lave den uden det\n",
    "<br>\n",
    "<b>OBS OBS OBS OBS OBS</b> <br>\n",
    "<b>Læs ovenfor</b>\n",
    "\\begin{align*}\n",
    "    \\intertext{kinematic and observations model}\n",
    "    \\mathbf{x}[n]&=\\Phi \\mathbf{x}[n-1] + \\mathbf{u}[n], \\\\\n",
    "    \\mathbf{z}[n]&=\\mathbf{x}[n] + \\mathbf{w}[n],\\\\\n",
    "    \\intertext{the prediction and prediction mean square error,}\n",
    "    \\hat{\\mathbf{x}}[n|n-1]&=\\Phi\\hat{\\mathbf{x}}[n-1|n-1], \\\\\n",
    "    M[n|n-1]&=\\Phi M[n-1|n-1]\\Phi^\\top + S_{\\mathbf{u}}, \\\\\n",
    "    \\intertext{the Kalman gain,}\n",
    "    K[n]&=M[n|n-1](S_{\\mathbf{w}}+M[n|n-1])^{-1},\\\\\n",
    "    \\intertext{and the correction and estimate mean square error,}\n",
    "    \\hat{\\mathbf{x}}[n|n]&=\\hat{\\mathbf{x}}[n|n-1]+K[n](\\mathbf{z}[n]-\\hat{\\mathbf{x}}[n|n-1]),\\\\\n",
    "    M[n|n]&=(I-K[n])M[n|n-1].\n",
    "\\end{align*}\n",
    "<br>"
   ]
  },
  {
   "cell_type": "code",
   "execution_count": 45,
   "outputs": [
    {
     "data": {
      "text/plain": "<module 'tracking' from '/home/anders/Documents/AAU/P6/tracking/tracking.py'>"
     },
     "execution_count": 45,
     "metadata": {},
     "output_type": "execute_result"
    }
   ],
   "source": [
    "import numpy as np\n",
    "import os, sys\n",
    "import matplotlib.pyplot as plt\n",
    "import importlib\n",
    "from scipy.signal import resample\n",
    "sys.path.insert(1, os.getcwd())\n",
    "import tracking as tr\n",
    "importlib.reload(tr)"
   ],
   "metadata": {
    "collapsed": false,
    "pycharm": {
     "name": "#%%\n"
    }
   }
  },
  {
   "cell_type": "markdown",
   "source": [
    "## Hent dataen for sig\n",
    "Den her blok kode henter bare dataen ned, hvis man skulle have lyst til det. Lige nu er der ikke en praktisk årsag til det, udover at gemme de filnavne vi skal bruge"
   ],
   "metadata": {
    "collapsed": false,
    "pycharm": {
     "name": "#%% md\n"
    }
   }
  },
  {
   "cell_type": "code",
   "execution_count": 39,
   "outputs": [],
   "source": [
    "# True orbits\n",
    "true50_names = [\"snr50/entireOrbit\" + str(i) + \".txt\" for i in range(1, 6)]\n",
    "true30_names = [\"snr30/entireOrbit\" + str(i) + \".txt\" for i in range(1, 6)]\n",
    "true10_names = [\"snr10/entireOrbit\" + str(i) + \".txt\" for i in range(1, 6)]\n",
    "true50 = [tr.import_data(name) for name in true50_names]\n",
    "true30 = [tr.import_data(name) for name in true30_names]\n",
    "true10 = [tr.import_data(name) for name in true10_names]\n",
    "\n",
    "# True detections\n",
    "detect50_names = [\"snr50/truth\" + str(i) + \".txt\" for i in range(1, 6)]\n",
    "detect30_names = [\"snr30/truth\" + str(i) + \".txt\" for i in range(1, 6)]\n",
    "detect10_names = [\"snr10/truth\" + str(i) + \".txt\" for i in range(1, 6)]\n",
    "detect50 = [tr.import_data(name) for name in detect50_names]\n",
    "detect30 = [tr.import_data(name) for name in detect30_names]\n",
    "detect10 = [tr.import_data(name) for name in detect10_names]\n",
    "\n",
    "# False detections\n",
    "false50 = tr.import_data(\"snr50/false.txt\")\n",
    "false30 = tr.import_data(\"snr30/false.txt\")\n",
    "false10 = tr.import_data(\"snr10/false.txt\")"
   ],
   "metadata": {
    "collapsed": false,
    "pycharm": {
     "name": "#%%\n"
    }
   }
  },
  {
   "cell_type": "markdown",
   "source": [
    "## Estimater og definitioner\n",
    "Her laver vi estimater af vores noise covariance matricer og startgæt for vores state. Vi importerer også dataen, og udregner dt-vektorene for vores tracks som gives til Kalman filteret"
   ],
   "metadata": {
    "collapsed": false
   }
  },
  {
   "cell_type": "code",
   "execution_count": 48,
   "outputs": [],
   "source": [
    "true50_state = [tr.velocity_algo(name, true_orbit=True) for name in true50_names]\n",
    "true30_state = [tr.velocity_algo(name, true_orbit=True) for name in true30_names]\n",
    "true10_state = [tr.velocity_algo(name, true_orbit=True) for name in true10_names]"
   ],
   "metadata": {
    "collapsed": false,
    "pycharm": {
     "name": "#%%\n"
    }
   }
  }
 ],
 "metadata": {
  "kernelspec": {
   "display_name": "Python 3",
   "language": "python",
   "name": "python3"
  },
  "language_info": {
   "codemirror_mode": {
    "name": "ipython",
    "version": 2
   },
   "file_extension": ".py",
   "mimetype": "text/x-python",
   "name": "python",
   "nbconvert_exporter": "python",
   "pygments_lexer": "ipython2",
   "version": "2.7.6"
  }
 },
 "nbformat": 4,
 "nbformat_minor": 0
}