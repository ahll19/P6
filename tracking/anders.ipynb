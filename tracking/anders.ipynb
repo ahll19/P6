{
 "cells": [
  {
   "cell_type": "markdown",
   "source": [
    "# Simple implementation af Kalman filteret\n",
    "\\begin{align*}\n",
    "    \\intertext{kinematic and observations model}\n",
    "    \\mathbf{x}[n]&=\\Phi \\mathbf{x}[n-1] + \\mathbf{u}[n], \\\\\n",
    "    \\mathbf{z}[n]&=\\mathbf{x}[n] + \\mathbf{w}[n],\\\\\n",
    "    \\intertext{the prediction and prediction mean square error,}\n",
    "    \\hat{\\mathbf{x}}[n|n-1]&=\\Phi\\hat{\\mathbf{x}}[n-1|n-1], \\\\\n",
    "    M[n|n-1]&=\\Phi M[n-1|n-1]\\Phi^\\top + S_{\\mathbf{u}}, \\\\\n",
    "    \\intertext{the Kalman gain,}\n",
    "    K[n]&=M[n|n-1](S_{\\mathbf{w}}+M[n|n-1])^{-1},\\\\\n",
    "    \\intertext{and the correction and estimate mean square error,}\n",
    "    \\hat{\\mathbf{x}}[n|n]&=\\hat{\\mathbf{x}}[n|n-1]+K[n](\\mathbf{z}[n]-\\hat{\\mathbf{x}}[n|n-1]),\\\\\n",
    "    M[n|n]&=(I-K[n])M[n|n-1].\n",
    "\\end{align*}\n",
    "<br>"
   ],
   "metadata": {
    "collapsed": false,
    "pycharm": {
     "name": "#%% md\n"
    }
   }
  },
  {
   "cell_type": "code",
   "execution_count": null,
   "outputs": [],
   "source": [
    "import numpy as np\n",
    "from itertools import product\n",
    "\n",
    "\n",
    "def init_gate(q1, q2, dt, vmax=0.5):\n",
    "    if np.linalg.norm(q1 - q2) <= vmax * dt:\n",
    "        return True\n",
    "    else:\n",
    "        return False"
   ],
   "metadata": {
    "collapsed": false,
    "pycharm": {
     "name": "#%%\n"
    }
   }
  },
  {
   "cell_type": "code",
   "execution_count": null,
   "outputs": [],
   "source": [
    "# simulate data\n",
    "m01 = np.random.rand(3)\n",
    "m02 = np.random.rand(3)\n",
    "m03 = np.random.rand(3)\n",
    "S0 = [m01, m02, m03]\n",
    "keylist = list(range(1, len(S0)+1))\n",
    "\n",
    "tracks = {0: []}\n",
    "for i in range(len(keylist)):\n",
    "    tracks[keylist[i]] = [S0[i]]\n",
    "\n",
    "\n",
    "m11 = np.random.rand(3)\n",
    "m12 = np.random.rand(3)\n",
    "m13 = np.random.rand(3)\n",
    "S1 = [m11, m12, m13]"
   ],
   "metadata": {
    "collapsed": false,
    "pycharm": {
     "name": "#%%\n"
    }
   }
  },
  {
   "cell_type": "code",
   "execution_count": null,
   "outputs": [],
   "source": [
    "def create_hyp_table(S0, S1, tracks, initial_hyp=False):\n",
    "    # numbered tracks\n",
    "    current_tracks = np.sort(list(tracks.keys()))\n",
    "    new_track_start = current_tracks[-1]+1\n",
    "    track_numbers = np.arange(new_track_start, new_track_start+len(S1))\n",
    "\n",
    "    # create initial hypothesis table\n",
    "    hyp_table = []\n",
    "    for i in range(len(S1)):\n",
    "        mn_hyp = [0]\n",
    "        for j in range(len(S0)):\n",
    "            if init_gate(S0[i], S1[j], 1, 0.75):\n",
    "                mn_hyp.append(j + 1)\n",
    "        mn_hyp.append(track_numbers[i])\n",
    "        hyp_table.append(mn_hyp)\n",
    "\n",
    "    # create all possible combinations\n",
    "    combinations = [p for p in product(*hyp_table)]\n",
    "    perm_table = np.asarray(combinations).T\n",
    "\n",
    "    # remove impossible combinations\n",
    "    non_zero_duplicates = []\n",
    "    for i in range(len(perm_table[0])):\n",
    "        # if there is a duplicate in column i+1 of perm_table, the value is saved in dup\n",
    "        u, c = np.unique(perm_table[:, i], return_counts=True)\n",
    "        dup = u[c > 1]\n",
    "\n",
    "        # if there are non-zero duplicates, non_zero_duplicates gets a True, otherwise it gets a false\n",
    "        non_zero_duplicates.append(np.any(dup > 0))\n",
    "\n",
    "    hyp_possible = np.delete(perm_table, non_zero_duplicates, axis=1)\n",
    "\n",
    "    return hyp_possible"
   ],
   "metadata": {
    "collapsed": false,
    "pycharm": {
     "name": "#%%\n"
    }
   }
  }
 ],
 "metadata": {
  "kernelspec": {
   "display_name": "Python 3 (ipykernel)",
   "language": "python",
   "name": "python3"
  },
  "language_info": {
   "codemirror_mode": {
    "name": "ipython",
    "version": 3
   },
   "file_extension": ".py",
   "mimetype": "text/x-python",
   "name": "python",
   "nbconvert_exporter": "python",
   "pygments_lexer": "ipython3",
   "version": "3.9.10+"
  }
 },
 "nbformat": 4,
 "nbformat_minor": 1
}