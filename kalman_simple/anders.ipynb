{
 "cells": [
  {
   "cell_type": "markdown",
   "metadata": {
    "collapsed": true,
    "pycharm": {
     "name": "#%% md\n"
    }
   },
   "source": [
    "# Simple implementation af Kalman filteret\n",
    "\\begin{align*}\n",
    "    \\intertext{kinematic and observations model}\n",
    "    \\mathbf{x}[n]&=\\Phi \\mathbf{x}[n-1] + \\mathbf{u}[n], \\\\\n",
    "    \\mathbf{z}[n]&=\\mathbf{x}[n] + \\mathbf{w}[n],\\\\\n",
    "    \\intertext{the prediction and prediction mean square error,}\n",
    "    \\hat{\\mathbf{x}}[n|n-1]&=\\Phi\\hat{\\mathbf{x}}[n-1|n-1], \\\\\n",
    "    M[n|n-1]&=\\Phi M[n-1|n-1]\\Phi^\\top + S_{\\mathbf{u}}, \\\\\n",
    "    \\intertext{the Kalman gain,}\n",
    "    K[n]&=M[n|n-1](S_{\\mathbf{w}}+M[n|n-1])^{-1},\\\\\n",
    "    \\intertext{and the correction and estimate mean square error,}\n",
    "    \\hat{\\mathbf{x}}[n|n]&=\\hat{\\mathbf{x}}[n|n-1]+K[n](\\mathbf{z}[n]-\\hat{\\mathbf{x}}[n|n-1]),\\\\\n",
    "    M[n|n]&=(I-K[n])M[n|n-1].\n",
    "\\end{align*}"
   ]
  },
  {
   "cell_type": "code",
   "execution_count": 1,
   "outputs": [],
   "source": [
    "import numpy as np\n",
    "import matplotlib.pyplot as plt\n",
    "\n",
    "\n",
    "distance = np.load(\"sat_2_100deg/distance.npy\")\n",
    "distances = np.load(\"sat_2_100deg/distances.npy\")\n",
    "velocity = np.load(\"sat_2_100deg/velocity.npy\")\n",
    "velocities = np.load(\"sat_2_100deg/velocties.npy\")"
   ],
   "metadata": {
    "collapsed": false,
    "pycharm": {
     "name": "#%%\n"
    }
   }
  },
  {
   "cell_type": "code",
   "execution_count": 13,
   "outputs": [],
   "source": [
    "class Kalman:\n",
    "    z = []\n",
    "\n",
    "    x_predictions = []\n",
    "    x_corrections = []\n",
    "\n",
    "    M_predictions = []\n",
    "    M_corrections = []\n",
    "\n",
    "    K = []\n",
    "\n",
    "    def __init__(self, phi, S_u, S_w, x_init_guess, M_init_guess, x):\n",
    "        # Save filter constants and data\n",
    "        self.phi = phi\n",
    "        self.S_u = S_u\n",
    "        self.S_w = S_w\n",
    "        self.dim = x.shape\n",
    "        self.x = x\n",
    "\n",
    "        # Save initial predicitons and initial measurement\n",
    "        self.x_predictions.append(x_init_guess)\n",
    "        self.M_predictions.append(M_init_guess)\n",
    "        print(self.dim)\n",
    "        self.z.append(x[0] + np.random.normal(np.zeros(self.dim), S_w, self.dim))\n",
    "\n",
    "\n",
    "    def __make_guess(self):\n",
    "        # Create guess of the next step\n",
    "        x_guess = self.phi*self.x_predictions[-1]\n",
    "        M_guess = self.phi*self.M_predictions[-1]*self.phi.T + self.S_u\n",
    "\n",
    "        # Append the guess\n",
    "        self.x_predictions.append(x_guess)\n",
    "        self.M_predictions.append(M_guess)\n",
    "\n",
    "        # create new observation\n",
    "        n = len(self.x_predictions)\n",
    "        obs = self.x[n-1] + np.random.normal(np.zeros(self.dim), self.S_w, self.dim)\n",
    "        self.z.append(obs)\n",
    "\n",
    "\n",
    "    def __kalman_gain(self):\n",
    "        # Calculate and append the Kalman gain\n",
    "        gain = self.M_predictions[-1]*np.linalg.inv(self.S_w+self.M_predictions[-1])\n",
    "        self.K.append(gain)\n",
    "\n",
    "\n",
    "    def __correction(self):\n",
    "        # Calculate the correciton step of the process\n",
    "        x_correct = self.x_predictions[-1]+self.K[-1]*(self.z[-1]-self.x_predictions[-1])\n",
    "        M_correct = (np.eye(self.dim)-self.K[-1])*self.M_predictions[-1]\n",
    "\n",
    "        # Append the corrections\n",
    "        self.x_corrections.append(x_correct)\n",
    "        self.M_corrections.append(M_correct)\n",
    "\n",
    "\n",
    "    def run_sim(self):\n",
    "        while  len(self.x_predictions) <= len(self.x):\n",
    "            self.__make_guess()\n",
    "            self.__kalman_gain()\n",
    "            self.__correction()"
   ],
   "metadata": {
    "collapsed": false,
    "pycharm": {
     "name": "#%%\n"
    }
   }
  },
  {
   "cell_type": "code",
   "execution_count": 3,
   "outputs": [],
   "source": [
    "\"\"\"\n",
    "    Her laver vi state vektor x_state og vores transition matrix. Bemærk at F er tidsafhængig men vi\n",
    "    lader den bare være bestemt ud fra vores initial parameters\n",
    "\"\"\"\n",
    "x_state = np.hstack([distances, velocities])\n",
    "\n",
    "# Skab vores force F matrix\n",
    "r_i, r_j, r_k = [x_state[0, i] for i in range(3)]\n",
    "r = distance[0]\n",
    "mu = 3.986004418e14 # wiki \"standard gravitational parameter\"\n",
    "\n",
    "# F kan findes på side 11 i thesis\n",
    "F1, F2, F4 = np.zeros((3, 3)), np.eye(3), np.zeros((3, 3))\n",
    "F3 = np.asanyarray([[-mu/(r**3) + (3*mu*r_i)**2/(r**5), (3*mu*r_i*r_j)/(r**5), (3*mu*r_i*r_k)/(r**5)],\n",
    "                    [(3*mu*r_i*r_j)/(r**5), -mu/r**3 + (3*mu*r_j**2)/(r**5), (3*mu*r_j*r_k)/(r**5)],\n",
    "                    [(3*mu*r_i*r_k)/(r**5), (3*mu*r_j*r_k)/(r**5), -(mu)/(r**3) + (3*mu*r_k**2)/(r**5)]])\n",
    "F_top = np.concatenate((F1, F2), axis=1)\n",
    "F_bot = np.concatenate((F3, F4), axis=1)\n",
    "F = np.concatenate((F_top, F_bot))\n",
    "\n",
    "# Husk at ændre delta t hvis det bliver nødvændigt\n",
    "delta_t = 0.1\n",
    "phi = np.eye(F.shape[0]) + delta_t*F"
   ],
   "metadata": {
    "collapsed": false,
    "pycharm": {
     "name": "#%%\n"
    }
   }
  },
  {
   "cell_type": "code",
   "execution_count": 14,
   "outputs": [
    {
     "name": "stdout",
     "output_type": "stream",
     "text": [
      "(6,)\n",
      "(13629, 6)\n",
      "(6, 6)\n",
      "(13629, 6)\n"
     ]
    },
    {
     "ename": "ValueError",
     "evalue": "shape mismatch: objects cannot be broadcast to a single shape",
     "output_type": "error",
     "traceback": [
      "\u001B[0;31m---------------------------------------------------------------------------\u001B[0m",
      "\u001B[0;31mValueError\u001B[0m                                Traceback (most recent call last)",
      "Input \u001B[0;32mIn [14]\u001B[0m, in \u001B[0;36m<module>\u001B[0;34m\u001B[0m\n\u001B[1;32m      6\u001B[0m S_u, S_w \u001B[38;5;241m=\u001B[39m np\u001B[38;5;241m.\u001B[39meye(\u001B[38;5;241m6\u001B[39m), np\u001B[38;5;241m.\u001B[39meye(\u001B[38;5;241m6\u001B[39m)\n\u001B[1;32m      7\u001B[0m x_init, M_init \u001B[38;5;241m=\u001B[39m np\u001B[38;5;241m.\u001B[39mzeros(\u001B[38;5;241m6\u001B[39m), np\u001B[38;5;241m.\u001B[39mzeros((\u001B[38;5;241m6\u001B[39m, \u001B[38;5;241m6\u001B[39m))\n\u001B[0;32m----> 9\u001B[0m kf \u001B[38;5;241m=\u001B[39m \u001B[43mKalman\u001B[49m\u001B[43m(\u001B[49m\u001B[43mphi\u001B[49m\u001B[43m,\u001B[49m\u001B[43m \u001B[49m\u001B[43mS_u\u001B[49m\u001B[43m,\u001B[49m\u001B[43m \u001B[49m\u001B[43mS_w\u001B[49m\u001B[43m,\u001B[49m\u001B[43m \u001B[49m\u001B[43mx_init\u001B[49m\u001B[43m,\u001B[49m\u001B[43m \u001B[49m\u001B[43mM_init\u001B[49m\u001B[43m,\u001B[49m\u001B[43m \u001B[49m\u001B[43mx_state\u001B[49m\u001B[43m)\u001B[49m\n",
      "Input \u001B[0;32mIn [13]\u001B[0m, in \u001B[0;36mKalman.__init__\u001B[0;34m(self, phi, S_u, S_w, x_init_guess, M_init_guess, x)\u001B[0m\n\u001B[1;32m     25\u001B[0m \u001B[38;5;28mprint\u001B[39m(S_w\u001B[38;5;241m.\u001B[39mshape)\n\u001B[1;32m     26\u001B[0m \u001B[38;5;28mprint\u001B[39m(\u001B[38;5;28mself\u001B[39m\u001B[38;5;241m.\u001B[39mdim)\n\u001B[0;32m---> 27\u001B[0m \u001B[38;5;28mself\u001B[39m\u001B[38;5;241m.\u001B[39mz\u001B[38;5;241m.\u001B[39mappend(x[\u001B[38;5;241m0\u001B[39m] \u001B[38;5;241m+\u001B[39m \u001B[43mnp\u001B[49m\u001B[38;5;241;43m.\u001B[39;49m\u001B[43mrandom\u001B[49m\u001B[38;5;241;43m.\u001B[39;49m\u001B[43mnormal\u001B[49m\u001B[43m(\u001B[49m\u001B[43mnp\u001B[49m\u001B[38;5;241;43m.\u001B[39;49m\u001B[43mzeros\u001B[49m\u001B[43m(\u001B[49m\u001B[43m(\u001B[49m\u001B[38;5;28;43mself\u001B[39;49m\u001B[38;5;241;43m.\u001B[39;49m\u001B[43mdim\u001B[49m\u001B[43m[\u001B[49m\u001B[38;5;241;43m1\u001B[39;49m\u001B[43m]\u001B[49m\u001B[43m,\u001B[49m\u001B[43m \u001B[49m\u001B[38;5;28;43mself\u001B[39;49m\u001B[38;5;241;43m.\u001B[39;49m\u001B[43mdim\u001B[49m\u001B[43m[\u001B[49m\u001B[38;5;241;43m1\u001B[39;49m\u001B[43m]\u001B[49m\u001B[43m)\u001B[49m\u001B[43m)\u001B[49m\u001B[43m,\u001B[49m\u001B[43m \u001B[49m\u001B[43mS_w\u001B[49m\u001B[43m,\u001B[49m\u001B[43m \u001B[49m\u001B[38;5;28;43mself\u001B[39;49m\u001B[38;5;241;43m.\u001B[39;49m\u001B[43mdim\u001B[49m\u001B[43m[\u001B[49m\u001B[38;5;241;43m0\u001B[39;49m\u001B[43m]\u001B[49m\u001B[43m)\u001B[49m)\n",
      "File \u001B[0;32mmtrand.pyx:1507\u001B[0m, in \u001B[0;36mnumpy.random.mtrand.RandomState.normal\u001B[0;34m()\u001B[0m\n",
      "File \u001B[0;32m_common.pyx:562\u001B[0m, in \u001B[0;36mnumpy.random._common.cont\u001B[0;34m()\u001B[0m\n",
      "File \u001B[0;32m_common.pyx:479\u001B[0m, in \u001B[0;36mnumpy.random._common.cont_broadcast_2\u001B[0;34m()\u001B[0m\n",
      "File \u001B[0;32m__init__.pxd:742\u001B[0m, in \u001B[0;36mnumpy.PyArray_MultiIterNew3\u001B[0;34m()\u001B[0m\n",
      "\u001B[0;31mValueError\u001B[0m: shape mismatch: objects cannot be broadcast to a single shape"
     ]
    }
   ],
   "source": [
    "\"\"\"\n",
    "    Her definereri vi resten af de parameter som vores filter skal bruge:\n",
    "        phi, S_u, S_w, x_init_guess, M_init_guess, x\n",
    "    og vi laver filteret\n",
    "\"\"\"\n",
    "S_u, S_w = np.eye(6), np.eye(6)\n",
    "x_init, M_init = np.zeros(6), np.zeros((6, 6))\n",
    "\n",
    "kf = Kalman(phi, S_u, S_w, x_init, M_init, x_state)"
   ],
   "metadata": {
    "collapsed": false,
    "pycharm": {
     "name": "#%%\n"
    }
   }
  }
 ],
 "metadata": {
  "kernelspec": {
   "display_name": "Python 3",
   "language": "python",
   "name": "python3"
  },
  "language_info": {
   "codemirror_mode": {
    "name": "ipython",
    "version": 2
   },
   "file_extension": ".py",
   "mimetype": "text/x-python",
   "name": "python",
   "nbconvert_exporter": "python",
   "pygments_lexer": "ipython2",
   "version": "2.7.6"
  }
 },
 "nbformat": 4,
 "nbformat_minor": 0
}