{
 "cells": [
  {
   "cell_type": "markdown",
   "metadata": {
    "collapsed": true,
    "pycharm": {
     "name": "#%% md\n"
    }
   },
   "source": [
    "# Simple implementation af Kalman filteret\n",
    "\\begin{align*}\n",
    "    \\intertext{kinematic and observations model}\n",
    "    \\mathbf{x}[n]&=\\Phi \\mathbf{x}[n-1] + \\mathbf{u}[n], \\\\\n",
    "    \\mathbf{z}[n]&=\\mathbf{x}[n] + \\mathbf{w}[n],\\\\\n",
    "    \\intertext{the prediction and prediction mean square error,}\n",
    "    \\hat{\\mathbf{x}}[n|n-1]&=\\Phi\\hat{\\mathbf{x}}[n-1|n-1], \\\\\n",
    "    M[n|n-1]&=\\Phi M[n-1|n-1]\\Phi^\\top + S_{\\mathbf{u}}, \\\\\n",
    "    \\intertext{the Kalman gain,}\n",
    "    K[n]&=M[n|n-1](S_{\\mathbf{w}}+M[n|n-1])^{-1},\\\\\n",
    "    \\intertext{and the correction and estimate mean square error,}\n",
    "    \\hat{\\mathbf{x}}[n|n]&=\\hat{\\mathbf{x}}[n|n-1]+K[n](\\mathbf{z}[n]-\\hat{\\mathbf{x}}[n|n-1]),\\\\\n",
    "    M[n|n]&=(I-K[n])M[n|n-1].\n",
    "\\end{align*}"
   ]
  },
  {
   "cell_type": "code",
   "execution_count": 2,
   "outputs": [],
   "source": [
    "import numpy as np\n",
    "import matplotlib.pyplot as plt\n",
    "\n",
    "\n",
    "distance = np.load(\"sat_2_100deg/distance.npy\")\n",
    "velocity = np.load(\"sat_2_100deg/velocity.npy\")"
   ],
   "metadata": {
    "collapsed": false,
    "pycharm": {
     "name": "#%%\n"
    }
   }
  },
  {
   "cell_type": "code",
   "execution_count": 3,
   "outputs": [],
   "source": [
    "class Kalman:\n",
    "    z = []\n",
    "\n",
    "    x_predictions = []\n",
    "    x_corrections = []\n",
    "\n",
    "    M_predictions = []\n",
    "    M_corrections = []\n",
    "\n",
    "    K = []\n",
    "\n",
    "    def __init__(self, phi, S_u, S_w, x_init_guess, M_init_guess, x):\n",
    "        # Save filter constants and data\n",
    "        self.phi = phi\n",
    "        self.S_u = S_u\n",
    "        self.S_w = S_w\n",
    "        self.dim = x.shape\n",
    "        self.x = x\n",
    "\n",
    "        # Save initial predicitons and initial measurement\n",
    "        self.x_predictions.append(x_init_guess)\n",
    "        self.M_predictions.append(M_init_guess)\n",
    "        self.z.append(x[0] + np.random.normal(np.zeros(self.dim), S_w, self.dim))\n",
    "\n",
    "\n",
    "    def __make_guess(self):\n",
    "        # Create guess of the next step\n",
    "        x_guess = self.phi*self.x_predictions[-1]\n",
    "        M_guess = self.phi*self.M_predictions[-1]*self.phi.T + self.S_u\n",
    "\n",
    "        # Append the guess\n",
    "        self.x_predictions.append(x_guess)\n",
    "        self.M_predictions.append(M_guess)\n",
    "\n",
    "        # create new observation\n",
    "        n = len(self.x_predictions)\n",
    "        obs = self.x[n-1] + np.random.normal(np.zeros(self.dim), self.S_w, self.dim)\n",
    "        self.z.append(obs)\n",
    "\n",
    "\n",
    "    def __kalman_gain(self):\n",
    "        # Calculate and append the Kalman gain\n",
    "        gain = self.M_predictions[-1]*np.linalg.inv(self.S_w+self.M_predictions[-1])\n",
    "        self.K.append(gain)\n",
    "\n",
    "\n",
    "    def __correction(self):\n",
    "        # Calculate the correciton step of the process\n",
    "        x_correct = self.x_predictions[-1]+self.K[-1]*(self.z[-1]-self.x_predictions[-1])\n",
    "        M_correct = (np.eye(self.dim)-self.K[-1])*self.M_predictions[-1]\n",
    "\n",
    "        # Append the corrections\n",
    "        self.x_corrections.append(x_correct)\n",
    "        self.M_corrections.append(M_correct)\n",
    "\n",
    "    # Lav en offentlig funktion som løber funktionerne igennem og udregner kalman for det givne data"
   ],
   "metadata": {
    "collapsed": false,
    "pycharm": {
     "name": "#%%\n"
    }
   }
  }
 ],
 "metadata": {
  "kernelspec": {
   "display_name": "Python 3",
   "language": "python",
   "name": "python3"
  },
  "language_info": {
   "codemirror_mode": {
    "name": "ipython",
    "version": 2
   },
   "file_extension": ".py",
   "mimetype": "text/x-python",
   "name": "python",
   "nbconvert_exporter": "python",
   "pygments_lexer": "ipython2",
   "version": "2.7.6"
  }
 },
 "nbformat": 4,
 "nbformat_minor": 0
}