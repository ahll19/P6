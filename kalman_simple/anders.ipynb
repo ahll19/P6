{
 "cells": [
  {
   "cell_type": "markdown",
   "metadata": {
    "collapsed": true,
    "pycharm": {
     "name": "#%% md\n"
    }
   },
   "source": [
    "# Simple implementation af Kalman filteret\n",
    "\\begin{align*}\n",
    "    \\intertext{kinematic and observations model}\n",
    "    \\mathbf{x}[n]&=\\Phi \\mathbf{x}[n-1] + \\mathbf{u}[n], \\\\\n",
    "    \\mathbf{z}[n]&=\\mathbf{x}[n] + \\mathbf{w}[n],\\\\\n",
    "    \\intertext{the prediction and prediction mean square error,}\n",
    "    \\hat{\\mathbf{x}}[n|n-1]&=\\Phi\\hat{\\mathbf{x}}[n-1|n-1], \\\\\n",
    "    M[n|n-1]&=\\Phi M[n-1|n-1]\\Phi^\\top + S_{\\mathbf{u}}, \\\\\n",
    "    \\intertext{the Kalman gain,}\n",
    "    K[n]&=M[n|n-1](S_{\\mathbf{w}}+M[n|n-1])^{-1},\\\\\n",
    "    \\intertext{and the correction and estimate mean square error,}\n",
    "    \\hat{\\mathbf{x}}[n|n]&=\\hat{\\mathbf{x}}[n|n-1]+K[n](\\mathbf{z}[n]-\\hat{\\mathbf{x}}[n|n-1]),\\\\\n",
    "    M[n|n]&=(I-K[n])M[n|n-1].\n",
    "\\end{align*}"
   ]
  },
  {
   "cell_type": "code",
   "execution_count": 15,
   "outputs": [],
   "source": [
    "import numpy as np\n",
    "import matplotlib.pyplot as plt\n",
    "\n",
    "\n",
    "distance = np.load(\"sat_2_100deg/distance.npy\")\n",
    "distances = np.load(\"sat_2_100deg/distances.npy\")\n",
    "velocity = np.load(\"sat_2_100deg/velocity.npy\")\n",
    "velocities = np.load(\"sat_2_100deg/velocties.npy\")"
   ],
   "metadata": {
    "collapsed": false,
    "pycharm": {
     "name": "#%%\n"
    }
   }
  },
  {
   "cell_type": "code",
   "execution_count": 56,
   "outputs": [],
   "source": [
    "class Kalman:\n",
    "    z = []\n",
    "\n",
    "    x_predictions = []\n",
    "    x_corrections = []\n",
    "\n",
    "    M_predictions = []\n",
    "    M_corrections = []\n",
    "\n",
    "    K = []\n",
    "\n",
    "    def __init__(self, phi, S_u, S_w, x_init_guess, M_init_guess, x):\n",
    "        # Save filter constants and data\n",
    "        self.phi = phi\n",
    "        self.S_u = S_u\n",
    "        self.S_w = S_w\n",
    "        self.dim = x.shape\n",
    "        self.x = x\n",
    "\n",
    "        # Save initial predicitons and initial measurement\n",
    "        self.x_predictions.append(x_init_guess)\n",
    "        self.M_predictions.append(M_init_guess)\n",
    "\n",
    "        _n = self.dim[1]\n",
    "        self.z.append(x[0] + np.random.normal(np.zeros((_n, _n)), S_w)[0])\n",
    "\n",
    "\n",
    "    def __make_guess(self):\n",
    "        # Create guess of the next step\n",
    "        x_guess = self.phi*self.x_predictions[-1]\n",
    "        M_guess = self.phi*self.M_predictions[-1]*self.phi.T + self.S_u\n",
    "\n",
    "        # Append the guess\n",
    "        self.x_predictions.append(x_guess)\n",
    "        self.M_predictions.append(M_guess)\n",
    "\n",
    "        # create new observation\n",
    "        n = len(self.x_predictions)\n",
    "        _n = self.dim[1]\n",
    "        obs = self.x[n-1] + np.random.normal(np.zeros((_n, _n)), self.S_w)[0]\n",
    "        self.z.append(obs)\n",
    "\n",
    "\n",
    "    def __kalman_gain(self):\n",
    "        # Calculate and append the Kalman gain\n",
    "        gain = self.M_predictions[-1]*np.linalg.inv(self.S_w+self.M_predictions[-1])\n",
    "        self.K.append(gain)\n",
    "\n",
    "\n",
    "    def __correction(self):\n",
    "        # Calculate the correciton step of the process\n",
    "        x_correct = self.x_predictions[-1]+self.K[-1]*(self.z[-1]-self.x_predictions[-1])\n",
    "        _n = self.dim[1]\n",
    "        M_correct = (np.eye(_n)-self.K[-1])*self.M_predictions[-1]\n",
    "\n",
    "        # Append the corrections\n",
    "        self.x_corrections.append(x_correct)\n",
    "        self.M_corrections.append(M_correct)\n",
    "\n",
    "\n",
    "    def run_sim(self):\n",
    "        while  len(self.x_predictions) <= len(self.x)-1:\n",
    "            self.__make_guess()\n",
    "            self.__kalman_gain()\n",
    "            self.__correction()"
   ],
   "metadata": {
    "collapsed": false,
    "pycharm": {
     "name": "#%%\n"
    }
   }
  },
  {
   "cell_type": "code",
   "execution_count": 17,
   "outputs": [],
   "source": [
    "\"\"\"\n",
    "    Her laver vi state vektor x_state og vores transition matrix. Bemærk at F er tidsafhængig men vi\n",
    "    lader den bare være bestemt ud fra vores initial parameters\n",
    "\"\"\"\n",
    "x_state = np.hstack([distances, velocities])\n",
    "\n",
    "# Skab vores force F matrix\n",
    "r_i, r_j, r_k = [x_state[0, i] for i in range(3)]\n",
    "r = distance[0]\n",
    "mu = 3.986004418e14 # wiki \"standard gravitational parameter\"\n",
    "\n",
    "# F kan findes på side 11 i thesis\n",
    "F1, F2, F4 = np.zeros((3, 3)), np.eye(3), np.zeros((3, 3))\n",
    "F3 = np.asanyarray([[-mu/(r**3) + (3*mu*r_i)**2/(r**5), (3*mu*r_i*r_j)/(r**5), (3*mu*r_i*r_k)/(r**5)],\n",
    "                    [(3*mu*r_i*r_j)/(r**5), -mu/r**3 + (3*mu*r_j**2)/(r**5), (3*mu*r_j*r_k)/(r**5)],\n",
    "                    [(3*mu*r_i*r_k)/(r**5), (3*mu*r_j*r_k)/(r**5), -(mu)/(r**3) + (3*mu*r_k**2)/(r**5)]])\n",
    "F_top = np.concatenate((F1, F2), axis=1)\n",
    "F_bot = np.concatenate((F3, F4), axis=1)\n",
    "F = np.concatenate((F_top, F_bot))\n",
    "\n",
    "# Husk at ændre delta t hvis det bliver nødvændigt\n",
    "delta_t = 0.1\n",
    "phi = np.eye(F.shape[0]) + delta_t*F"
   ],
   "metadata": {
    "collapsed": false,
    "pycharm": {
     "name": "#%%\n"
    }
   }
  },
  {
   "cell_type": "code",
   "execution_count": 57,
   "outputs": [],
   "source": [
    "\"\"\"\n",
    "    Her definereri vi resten af de parameter som vores filter skal bruge:\n",
    "        phi, S_u, S_w, x_init_guess, M_init_guess, x\n",
    "    og vi laver filteret\n",
    "\"\"\"\n",
    "S_u, S_w = np.eye(6), np.eye(6)\n",
    "x_init, M_init = np.zeros(6), np.zeros((6, 6))\n",
    "\n",
    "kf = Kalman(phi, S_u, S_w, x_init, M_init, x_state)"
   ],
   "metadata": {
    "collapsed": false,
    "pycharm": {
     "name": "#%%\n"
    }
   }
  }
 ],
 "metadata": {
  "kernelspec": {
   "display_name": "Python 3",
   "language": "python",
   "name": "python3"
  },
  "language_info": {
   "codemirror_mode": {
    "name": "ipython",
    "version": 2
   },
   "file_extension": ".py",
   "mimetype": "text/x-python",
   "name": "python",
   "nbconvert_exporter": "python",
   "pygments_lexer": "ipython2",
   "version": "2.7.6"
  }
 },
 "nbformat": 4,
 "nbformat_minor": 0
}