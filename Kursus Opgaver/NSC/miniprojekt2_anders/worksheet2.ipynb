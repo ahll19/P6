{
 "cells": [
  {
   "cell_type": "markdown",
   "source": [
    "# Worksheet: Miniproject 1\n",
    "In this worksheet the Mandelbrot set is calculated in the region $C=\\{a+ib\\ : \\ a\\in[-2,\\ 1]\\ b\\in[-1.5,\\ 1.5]\\}$ of the complex plane. Throughout this worksheet $N$ denotes the number of \"pixles\" the region is split into. This means that $C$ will be represented by an $N\\times N$ matrix. <br>\n",
    "An iteration is carried out for each entry in $C$, where the number of iterations are counted and plotted as an intensity plot. The number 2 is used as an upper bound for when a point diverges, since the sequency defining the Mandelbrot set diverges for $|z|>2$.<br>\n",
    "In these implentations $N=1000$ and the maximum number of iterations over each point is 10."
   ],
   "metadata": {
    "collapsed": false
   }
  },
  {
   "cell_type": "markdown",
   "source": [
    "List of old implementation execution times:\n",
    "- Naive implementation: 14.980194687843323\n",
    "- Vectorized implementation: 0.42690569162368774\n",
    "- Numba implementation: 0.020418941974639893\n",
    "- Multicore implementation1: 2.21570360660553"
   ],
   "metadata": {
    "collapsed": false,
    "pycharm": {
     "name": "#%% md\n"
    }
   }
  }
 ],
 "metadata": {
  "kernelspec": {
   "display_name": "Python 3",
   "language": "python",
   "name": "python3"
  },
  "language_info": {
   "codemirror_mode": {
    "name": "ipython",
    "version": 2
   },
   "file_extension": ".py",
   "mimetype": "text/x-python",
   "name": "python",
   "nbconvert_exporter": "python",
   "pygments_lexer": "ipython2",
   "version": "2.7.6"
  }
 },
 "nbformat": 4,
 "nbformat_minor": 0
}