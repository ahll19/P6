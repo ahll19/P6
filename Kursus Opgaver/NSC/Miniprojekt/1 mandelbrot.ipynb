{
 "cells": [
  {
   "cell_type": "code",
   "execution_count": null,
   "metadata": {},
   "outputs": [],
   "source": [
    "import matplotlib.pyplot as plt\n",
    "import numpy as np"
   ]
  },
  {
   "cell_type": "code",
   "execution_count": null,
   "metadata": {},
   "outputs": [],
   "source": [
    "# Faste definitioner\n",
    "N = 5\n",
    "Rs = np.linspace(-2, 1, N)\n",
    "Is = np.linspace(-1.5, 1.5, N)\n",
    "T = 2\n",
    "maxIter = 100\n",
    "\n",
    "# Sample det komplekse plan\n",
    "Csr = np.tile(Rs, (N, 1))\n",
    "Csi = np.rot90(np.tile(Is, (N, 1)))\n",
    "Cs = Csr + 1j*Csi"
   ]
  }
 ],
 "metadata": {
  "kernelspec": {
   "display_name": "Python 3 (ipykernel)",
   "language": "python",
   "name": "python3"
  },
  "language_info": {
   "codemirror_mode": {
    "name": "ipython",
    "version": 3
   },
   "file_extension": ".py",
   "mimetype": "text/x-python",
   "name": "python",
   "nbconvert_exporter": "python",
   "pygments_lexer": "ipython3",
   "version": "3.9.10+"
  }
 },
 "nbformat": 4,
 "nbformat_minor": 2
}
