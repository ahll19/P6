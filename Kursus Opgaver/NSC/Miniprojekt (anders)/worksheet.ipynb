{
 "cells": [
  {
   "cell_type": "markdown",
   "metadata": {
    "collapsed": true,
    "pycharm": {
     "name": "#%% md\n"
    }
   },
   "source": [
    "# Worksheet: Miniproject 1\n",
    "In this worksheet the Mandelbrot set is calculated in the region $C=\\{a+ib\\ : \\ a\\in[-2,\\ 1]\\ b\\in[-1.5,\\ 1.5]\\}$ of the complex plane. Throughout this worksheet $N$ denotes the number of \"pixles\" the region is split into. This means that $C$ will be represented by an $N\\times N$ matrix. <br>\n",
    "An iteration is carried out for each entry in $C$, where the number of iterations are counted and plotted as an intensity plot. The number 2 is used as an upper bound for when a point diverges, since the sequency defining the Mandelbrot set diverges for $|z|>2$.<br>\n",
    "In these implentations $N=2500$ and the maximum number of iterations over each point is 20."
   ]
  },
  {
   "cell_type": "markdown",
   "source": [
    "## Setup\n",
    "Here the necesarry modules are imported, along with each of the implementations (*naive*, *vectorized*, *numbad*, and *multicore* in the code cell below). A function used for plotting the Mandelbrot set is also defined."
   ],
   "metadata": {
    "collapsed": false,
    "pycharm": {
     "name": "#%% md\n"
    }
   }
  },
  {
   "cell_type": "code",
   "execution_count": 1,
   "outputs": [],
   "source": [
    "import naive\n",
    "import vectorized\n",
    "import numbad\n",
    "import multicore\n",
    "\n",
    "import numpy as np\n",
    "import matplotlib.pyplot as plt\n",
    "import time"
   ],
   "metadata": {
    "collapsed": false,
    "pycharm": {
     "name": "#%%\n"
    }
   }
  },
  {
   "cell_type": "code",
   "execution_count": 2,
   "outputs": [],
   "source": [
    "def plot_it(iterations, title):\n",
    "    colormap = plt.cm.hot\n",
    "    plt.imshow(iterations, cmap=colormap)\n",
    "    plt.ylabel(r\"$\\Im$\")\n",
    "    plt.xlabel(r\"$\\Re$\")\n",
    "    plt.title(title)\n",
    "    plt.show()\n",
    "\n",
    "\n",
    "N = 2500\n",
    "max_iter = 20"
   ],
   "metadata": {
    "collapsed": false,
    "pycharm": {
     "name": "#%%\n"
    }
   }
  },
  {
   "cell_type": "markdown",
   "source": [
    "## Method overview\n",
    "This section describes how each implementation works."
   ],
   "metadata": {
    "collapsed": false,
    "pycharm": {
     "name": "#%% md\n"
    }
   }
  },
  {
   "cell_type": "markdown",
   "source": [
    "### The Naive Approach\n",
    "The naive approach to implementing the algorithm in a nested for loop, where each entry in $C$ is iterated over one-by-one, to see if it converges or diverges"
   ],
   "metadata": {
    "collapsed": false,
    "pycharm": {
     "name": "#%% md\n"
    }
   }
  },
  {
   "cell_type": "markdown",
   "source": [
    "### The vectorized approach\n",
    "The vectorized implementation utilizes the *numpy* library to spped up calculations. *Numpy* utilizes pipelining which results in more calculations per CPU clock, which speeds up calculations considereably. The *numpy* library also uses compiled *C*, *C++*, and *Fortran* code, which results in much less overhead than *Python* (which is an interpreted language) which also speeds up calculations. Numpy arrays are also stored contiguously in memory, which makes variable acces much faster."
   ],
   "metadata": {
    "collapsed": false,
    "pycharm": {
     "name": "#%% md\n"
    }
   }
  },
  {
   "cell_type": "markdown",
   "source": [
    "### The Numba Approach\n",
    "One of the reasons *Python* is slower than a language like *C* is that *Python* is an intepreted language, whereas *C* is compiled. This makes for more overhead, and an overall slower implementation of algorithms. Some languages like *Lua* utilize what is called just-in-time compilation, which results in it being much faster. The *numba* library in *python* allows us to implement just-in-time compilation in *python* code. This is done by adding a decorator above the function which we want to compile at runtime. There must be taken some precautions however, since *numba* doesn't \"play well\" with all native *python* code.\n",
    " As an axample: the function\n",
    "```\n",
    "numpy.linspace\n",
    "```\n",
    "which returns an array of equally spaced point in a given interval, doesn't work \"out-of-the-box\" with *numba*. To remedy this the entries in $C$ have an added method to them in the script *numbad.py*. More precisely; the line\n",
    " ```\n",
    " Rs = np.linspace(-2, 1, N).reshape((1, N))\n",
    " ```\n",
    " has been replaced with\n",
    " ```\n",
    " Rs = np.linspace(-2, 1, N).astype(np.float32)\n",
    " ```\n",
    " such that *numba* can compile it. This, and other quirks of implementing *numba* have all been taken care of in the script. <br>\n",
    " Note that the code still resembles that of the naive approach. This is because it is much easier to implement *numba* that way, and as will be seen later, this still runs faster than the vectorized approacch."
   ],
   "metadata": {
    "collapsed": false,
    "pycharm": {
     "name": "#%% md\n"
    }
   }
  },
  {
   "cell_type": "markdown",
   "source": [
    "### The Multicore Processing Approach\n",
    "This implementation utilizes the fact that modern CPUs consist of more than one core. Each core can carry out calculations independently from the others. This means that for embarrasingly parallelalizable algortihms, such as the Mandelbrot algorithm, the execution time can almost divided by the number of cores carrying out operations. This division is however, assymptotic. This is because the CPU must still spend time allocating computations to the different cores which, among other factors, contributes to some overhead. As will be seen later in this worksheet, this means that splitting a problem into too many sub-processes can actually increase the computation time, compared to if the algorithm was carried out on a single core. <br>\n",
    "This method of multicore processing does also present some issues in the implementation. Among these is the fact that the *multiprocessing* library in pytho does not always recognize imported modules in the main script (This is because of the way the allocation of memory is done. The maintainers of the library state that the pickling occuring in the module results in functions declared in the main scope of the code not always recognizing imported modules in the same scope). In order to fix this issue I created a seperate module, containing the Mandelbrot algorithm to be carried out on some sub-matrix of $C$, which is then imported into the main module, along with any other necessary libraries. If the code does not run on your machine, the issue may lie with the *os* or *sys* package, which are used to import the python script *sub_mandelbrot.py*."
   ],
   "metadata": {
    "collapsed": false,
    "pycharm": {
     "name": "#%% md\n"
    }
   }
  },
  {
   "cell_type": "markdown",
   "source": [
    "## Optimization of the Multicore Processing Approach\n",
    "In order to determine the optimal number of sub-processes to split the problem into, the script *multicore.py* is run with a different number of processes specified each time. In this way we can find out which process count to use when comparing the different implementations with each other.<br>\n",
    "The number of processes used are all divisors of $N$, to make the code implementation simpler. A plot can be seen below the code block, which displays the computing time as a function of the number of processes the problem is split into. From this plot we see that the optimal number of processes at this given $N$ and number of maximum iterations is 10 processes."
   ],
   "metadata": {
    "collapsed": false,
    "pycharm": {
     "name": "#%% md\n"
    }
   }
  },
  {
   "cell_type": "code",
   "execution_count": 3,
   "outputs": [
    {
     "name": "stdout",
     "output_type": "stream",
     "text": [
      "Optimal number of processes:  10\n"
     ]
    },
    {
     "data": {
      "text/plain": "<Figure size 432x288 with 1 Axes>",
      "image/png": "[encoded data removed]"
     },
     "metadata": {
      "needs_background": "light"
     },
     "output_type": "display_data"
    }
   ],
   "source": [
    "process_count = [1, 2, 4, 5, 10, 20, 25, 50]\n",
    "times = []\n",
    "\n",
    "for p in process_count:\n",
    "    t0 = time.time()\n",
    "    multicore.mandelbrot(N, p, max_iter)\n",
    "    t1 = time.time() - t0\n",
    "    times.append(t1)\n",
    "\n",
    "plt.plot(process_count, times)\n",
    "plt.title(\"Computation time by process count\")\n",
    "print(\"Optimal number of processes: \", process_count[np.argmin(times)])"
   ],
   "metadata": {
    "collapsed": false,
    "pycharm": {
     "name": "#%%\n"
    }
   }
  },
  {
   "cell_type": "markdown",
   "source": [
    "## Comparison Between the Implementations\n",
    "This section shows how the different implementations compare for a given $N$ and number of max iterations. To test this each implementation is carried out a number of times (specified by `runs`), and the average computation time is calculated using the `time.time()`function. The code block outputs a comparison betwee nthe implementations"
   ],
   "metadata": {
    "collapsed": false,
    "pycharm": {
     "name": "#%% md\n"
    }
   }
  },
  {
   "cell_type": "code",
   "execution_count": null,
   "outputs": [],
   "source": [
    "runs = 4\n",
    "processes = 10\n",
    "mean_time_names = [\"Naive implementation\",\n",
    "                   \"Vectorized implementation\",\n",
    "                   \"Numba implementation\",\n",
    "                   \"Multicore implementation1\"]\n",
    "mean_times = np.zeros(4)\n",
    "\n",
    "for i in range(runs):\n",
    "    t0 = time.time()\n",
    "    naive_mandelbrot = naive.mandelbrot(N, max_iter=max_iter)\n",
    "    tna = time.time() - t0\n",
    "\n",
    "    t0 = time.time()\n",
    "    vec_mandelbrot = vectorized.mandelbrot(N, max_iter=max_iter)\n",
    "    tv = time.time() - t0\n",
    "\n",
    "    t0 = time.time()\n",
    "    numba_mandelbrot = numbad.mandelbrot(N, max_iter=max_iter)\n",
    "    tnu = time.time() - t0\n",
    "\n",
    "    t0 = time.time()\n",
    "    multi_mandelbrot1 = multicore.mandelbrot(N, processes, max_iter=max_iter)\n",
    "    tm1 = time.time() - t0\n",
    "\n",
    "    mean_times[0] += tna/runs\n",
    "    mean_times[1] += tv/runs\n",
    "    mean_times[2] += tnu/runs\n",
    "    mean_times[3] += tm1/runs\n",
    "\n",
    "for i in range(4):\n",
    "    print(mean_time_names[i] + \":\", mean_times[i])"
   ],
   "metadata": {
    "collapsed": false,
    "pycharm": {
     "name": "#%%\n",
     "is_executing": true
    }
   }
  },
  {
   "cell_type": "markdown",
   "source": [
    "## Other optimizations\n",
    "There are several different ways to further optimize this algorithm, an inexhaustive list is presented here:\n",
    "- Using the *numxpr* library, which significantly speeds op calculations\n",
    "- Utilizing the symmetry of the Mandelbrot set. It can be shown that a given points behave exactly like its complex conjugate when calculating the Mandelbrot set. This means that we can halve the computation time by only computing the upper half of the complex plane, if we don't take overhead into account.\n",
    "- Since the multicore processing implementation uses *numpy* we could use `numpy.array_equal` to check if a region hasn't changed over an iteration. This means that we could quickly discard the outer corners of the set, since these regions diverge quickly."
   ],
   "metadata": {
    "collapsed": false,
    "pycharm": {
     "name": "#%% md\n"
    }
   }
  }
 ],
 "metadata": {
  "kernelspec": {
   "display_name": "Python 3",
   "language": "python",
   "name": "python3"
  },
  "language_info": {
   "codemirror_mode": {
    "name": "ipython",
    "version": 2
   },
   "file_extension": ".py",
   "mimetype": "text/x-python",
   "name": "python",
   "nbconvert_exporter": "python",
   "pygments_lexer": "ipython2",
   "version": "2.7.6"
  }
 },
 "nbformat": 4,
 "nbformat_minor": 0
}