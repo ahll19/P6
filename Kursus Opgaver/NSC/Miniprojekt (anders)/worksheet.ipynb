{
 "cells": [
  {
   "cell_type": "markdown",
   "metadata": {
    "collapsed": true,
    "pycharm": {
     "name": "#%% md\n"
    }
   },
   "source": [
    "# Worksheet: Miniproject 1"
   ]
  },
  {
   "cell_type": "code",
   "execution_count": 8,
   "outputs": [],
   "source": [
    "import naive\n",
    "import vectorized\n",
    "import numbad\n",
    "import multicore\n",
    "\n",
    "import numpy as np\n",
    "import matplotlib.pyplot as plt\n",
    "import time\n",
    "\n",
    "# Bruges til at reload modul som der er ændre it\n",
    "# import importlib\n",
    "# importlib.reload(vectorized)"
   ],
   "metadata": {
    "collapsed": false,
    "pycharm": {
     "name": "#%%\n"
    }
   }
  },
  {
   "cell_type": "code",
   "execution_count": 9,
   "outputs": [],
   "source": [
    "def plot_it(iterations, title):\n",
    "    colormap = plt.cm.hot\n",
    "    plt.imshow(iterations, cmap=colormap)\n",
    "    plt.ylabel(r\"$\\Im$\")\n",
    "    plt.xlabel(r\"$\\Re$\")\n",
    "    plt.title(title)\n",
    "    plt.show()\n",
    "\n",
    "\n",
    "def time_it(fun, runs=2, **kwargs):\n",
    "    # example code:\n",
    "    # # run_time, num_iterations = time_it(naive.mandelbrot, runs=2, N=2000, maxIter=10)\n",
    "    mean = 0\n",
    "    ret = 0\n",
    "    for i in range(runs):\n",
    "        t0 = time.time()\n",
    "        ret = fun(**kwargs)\n",
    "        mean += (time.time()-t0)/runs\n",
    "\n",
    "    return mean, ret"
   ],
   "metadata": {
    "collapsed": false,
    "pycharm": {
     "name": "#%%\n"
    }
   }
  },
  {
   "cell_type": "code",
   "execution_count": 10,
   "outputs": [],
   "source": [
    "# compare\n",
    "# naive_time, naive_mandelbrot = time_it(naive.mandelbrot, runs=4, N=1000, max_iter=20)\n",
    "vec_time, vec_mandelbrot = time_it(vectorized.mandelbrot, runs=4, N=1000, max_iter=20)\n",
    "numba_time, numba_mandelbrot = time_it(numbad.mandelbrot, runs=4, N=1000, max_iter=20)"
   ],
   "metadata": {
    "collapsed": false,
    "pycharm": {
     "name": "#%%\n"
    }
   }
  },
  {
   "cell_type": "code",
   "execution_count": null,
   "outputs": [],
   "source": [
    "# print(\"naive:      \", naive_time)\n",
    "print(\"vectorized: \", vec_time)\n",
    "print(\"numba:      \", numba_time)"
   ],
   "metadata": {
    "collapsed": false,
    "pycharm": {
     "name": "#%%\n",
     "is_executing": true
    }
   }
  }
 ],
 "metadata": {
  "kernelspec": {
   "display_name": "Python 3",
   "language": "python",
   "name": "python3"
  },
  "language_info": {
   "codemirror_mode": {
    "name": "ipython",
    "version": 2
   },
   "file_extension": ".py",
   "mimetype": "text/x-python",
   "name": "python",
   "nbconvert_exporter": "python",
   "pygments_lexer": "ipython2",
   "version": "2.7.6"
  }
 },
 "nbformat": 4,
 "nbformat_minor": 0
}