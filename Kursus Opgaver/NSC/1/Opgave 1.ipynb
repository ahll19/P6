{
 "cells": [
  {
   "cell_type": "code",
   "execution_count": null,
   "metadata": {},
   "outputs": [],
   "source": [
    "import numpy as np\n",
    "import random as rnd"
   ]
  },
  {
   "cell_type": "markdown",
   "metadata": {},
   "source": [
    "Create a vector X of N random numbers, where N is in the order of 1e6 to 1e8 (depending on the speed of your computer).\n",
    "Create the following implementations to calculate the difference between the consecutive elements in X: (resulting in a vector Y with N-1 elements)"
   ]
  },
  {
   "cell_type": "code",
   "execution_count": null,
   "metadata": {},
   "outputs": [],
   "source": [
    "n = int(10e2)\n",
    "x = [rnd.randrange(10) for i in range(n)]\n",
    "y = []\n",
    "xn = np.random.rand(n)\n",
    "yn = np.zeros(n-1)"
   ]
  },
  {
   "cell_type": "code",
   "execution_count": null,
   "metadata": {},
   "outputs": [],
   "source": [
    "def naive1(x, y):\n",
    "    for i in range(len(x)-1):\n",
    "        y.append(x[i+1]-x[i])\n",
    "    \n",
    "    return y\n",
    "\n",
    "\n",
    "def naive2(x, y):\n",
    "    for i in range(len(x)-1):\n",
    "        x_next = x[i+1]\n",
    "        x_now = x[i]\n",
    "        y.append(x_next-x_now)\n",
    "    \n",
    "    return y\n",
    "\n",
    "\n",
    "def smart1(x, y):\n",
    "    for i in range(len(x)-1):\n",
    "        y.append(x[i+1]-x[i])\n",
    "    \n",
    "    return y\n",
    "\n",
    "\n",
    "def smart2(x, y):\n",
    "    for i in range(len(x)-1):\n",
    "        y[i] = x[i+1]-x[i]\n",
    "    \n",
    "    return y\n",
    "\n",
    "\n",
    "def smartest(x, y):\n",
    "    return np.diff(x)"
   ]
  },
  {
   "cell_type": "code",
   "execution_count": null,
   "metadata": {},
   "outputs": [],
   "source": [
    "%timeit naive1(x, y)"
   ]
  },
  {
   "cell_type": "code",
   "execution_count": null,
   "metadata": {},
   "outputs": [],
   "source": [
    "%timeit naive2(x, y)"
   ]
  },
  {
   "cell_type": "code",
   "execution_count": null,
   "metadata": {},
   "outputs": [],
   "source": [
    "%timeit smart1(xn, y)"
   ]
  },
  {
   "cell_type": "code",
   "execution_count": null,
   "metadata": {},
   "outputs": [],
   "source": [
    "%timeit smart2(xn, yn)"
   ]
  },
  {
   "cell_type": "code",
   "execution_count": null,
   "metadata": {},
   "outputs": [],
   "source": [
    "%timeit smartest(xn, yn)"
   ]
  }
 ],
 "metadata": {
  "kernelspec": {
   "display_name": "Python 3 (ipykernel)",
   "language": "python",
   "name": "python3"
  },
  "language_info": {
   "codemirror_mode": {
    "name": "ipython",
    "version": 3
   },
   "file_extension": ".py",
   "mimetype": "text/x-python",
   "name": "python",
   "nbconvert_exporter": "python",
   "pygments_lexer": "ipython3",
   "version": "3.9.10+"
  }
 },
 "nbformat": 4,
 "nbformat_minor": 2
}
